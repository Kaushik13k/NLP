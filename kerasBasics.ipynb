{
 "cells": [
  {
   "cell_type": "code",
   "execution_count": 110,
   "metadata": {},
   "outputs": [],
   "source": [
    "import numpy as np\n",
    "import pandas as pd"
   ]
  },
  {
   "cell_type": "code",
   "execution_count": 111,
   "metadata": {},
   "outputs": [],
   "source": [
    "df = pd.read_csv('iris.csv')"
   ]
  },
  {
   "cell_type": "code",
   "execution_count": 112,
   "metadata": {},
   "outputs": [
    {
     "data": {
      "text/html": [
       "<div>\n",
       "<style scoped>\n",
       "    .dataframe tbody tr th:only-of-type {\n",
       "        vertical-align: middle;\n",
       "    }\n",
       "\n",
       "    .dataframe tbody tr th {\n",
       "        vertical-align: top;\n",
       "    }\n",
       "\n",
       "    .dataframe thead th {\n",
       "        text-align: right;\n",
       "    }\n",
       "</style>\n",
       "<table border=\"1\" class=\"dataframe\">\n",
       "  <thead>\n",
       "    <tr style=\"text-align: right;\">\n",
       "      <th></th>\n",
       "      <th>Id</th>\n",
       "      <th>SepalLengthCm</th>\n",
       "      <th>SepalWidthCm</th>\n",
       "      <th>PetalLengthCm</th>\n",
       "      <th>PetalWidthCm</th>\n",
       "      <th>Species</th>\n",
       "    </tr>\n",
       "  </thead>\n",
       "  <tbody>\n",
       "    <tr>\n",
       "      <th>0</th>\n",
       "      <td>1</td>\n",
       "      <td>5.1</td>\n",
       "      <td>3.5</td>\n",
       "      <td>1.4</td>\n",
       "      <td>0.2</td>\n",
       "      <td>Iris-setosa</td>\n",
       "    </tr>\n",
       "    <tr>\n",
       "      <th>1</th>\n",
       "      <td>2</td>\n",
       "      <td>4.9</td>\n",
       "      <td>3.0</td>\n",
       "      <td>1.4</td>\n",
       "      <td>0.2</td>\n",
       "      <td>Iris-setosa</td>\n",
       "    </tr>\n",
       "    <tr>\n",
       "      <th>2</th>\n",
       "      <td>3</td>\n",
       "      <td>4.7</td>\n",
       "      <td>3.2</td>\n",
       "      <td>1.3</td>\n",
       "      <td>0.2</td>\n",
       "      <td>Iris-setosa</td>\n",
       "    </tr>\n",
       "    <tr>\n",
       "      <th>3</th>\n",
       "      <td>4</td>\n",
       "      <td>4.6</td>\n",
       "      <td>3.1</td>\n",
       "      <td>1.5</td>\n",
       "      <td>0.2</td>\n",
       "      <td>Iris-setosa</td>\n",
       "    </tr>\n",
       "    <tr>\n",
       "      <th>4</th>\n",
       "      <td>5</td>\n",
       "      <td>5.0</td>\n",
       "      <td>3.6</td>\n",
       "      <td>1.4</td>\n",
       "      <td>0.2</td>\n",
       "      <td>Iris-setosa</td>\n",
       "    </tr>\n",
       "  </tbody>\n",
       "</table>\n",
       "</div>"
      ],
      "text/plain": [
       "   Id  SepalLengthCm  SepalWidthCm  PetalLengthCm  PetalWidthCm      Species\n",
       "0   1            5.1           3.5            1.4           0.2  Iris-setosa\n",
       "1   2            4.9           3.0            1.4           0.2  Iris-setosa\n",
       "2   3            4.7           3.2            1.3           0.2  Iris-setosa\n",
       "3   4            4.6           3.1            1.5           0.2  Iris-setosa\n",
       "4   5            5.0           3.6            1.4           0.2  Iris-setosa"
      ]
     },
     "execution_count": 112,
     "metadata": {},
     "output_type": "execute_result"
    }
   ],
   "source": [
    "df.head()"
   ]
  },
  {
   "cell_type": "code",
   "execution_count": 113,
   "metadata": {},
   "outputs": [
    {
     "data": {
      "text/plain": [
       "<bound method Series.drop of 0        1\n",
       "1        2\n",
       "2        3\n",
       "3        4\n",
       "4        5\n",
       "      ... \n",
       "145    146\n",
       "146    147\n",
       "147    148\n",
       "148    149\n",
       "149    150\n",
       "Name: Id, Length: 150, dtype: int64>"
      ]
     },
     "execution_count": 113,
     "metadata": {},
     "output_type": "execute_result"
    }
   ],
   "source": [
    "df[\"Id\"].drop"
   ]
  },
  {
   "cell_type": "code",
   "execution_count": 114,
   "metadata": {},
   "outputs": [],
   "source": [
    "X = df.iloc[:,1:5].values"
   ]
  },
  {
   "cell_type": "code",
   "execution_count": 115,
   "metadata": {},
   "outputs": [],
   "source": [
    "y = df.iloc[:,5:].values"
   ]
  },
  {
   "cell_type": "code",
   "execution_count": 116,
   "metadata": {},
   "outputs": [],
   "source": [
    "#class 0 --> [1,0,0]\n",
    "#class 1 --> [0,1,0]\n",
    "#class 2 --> [0,0,1]"
   ]
  },
  {
   "cell_type": "code",
   "execution_count": 117,
   "metadata": {},
   "outputs": [],
   "source": [
    "from sklearn.preprocessing import LabelEncoder\n",
    "from sklearn.preprocessing import OneHotEncoder"
   ]
  },
  {
   "cell_type": "code",
   "execution_count": 118,
   "metadata": {},
   "outputs": [
    {
     "name": "stdout",
     "output_type": "stream",
     "text": [
      "[0 0 0 0 0 0 0 0 0 0 0 0 0 0 0 0 0 0 0 0 0 0 0 0 0 0 0 0 0 0 0 0 0 0 0 0 0\n",
      " 0 0 0 0 0 0 0 0 0 0 0 0 0 1 1 1 1 1 1 1 1 1 1 1 1 1 1 1 1 1 1 1 1 1 1 1 1\n",
      " 1 1 1 1 1 1 1 1 1 1 1 1 1 1 1 1 1 1 1 1 1 1 1 1 1 1 2 2 2 2 2 2 2 2 2 2 2\n",
      " 2 2 2 2 2 2 2 2 2 2 2 2 2 2 2 2 2 2 2 2 2 2 2 2 2 2 2 2 2 2 2 2 2 2 2 2 2\n",
      " 2 2]\n"
     ]
    },
    {
     "name": "stderr",
     "output_type": "stream",
     "text": [
      "C:\\Users\\13kau\\anaconda3\\lib\\site-packages\\sklearn\\utils\\validation.py:72: DataConversionWarning: A column-vector y was passed when a 1d array was expected. Please change the shape of y to (n_samples, ), for example using ravel().\n",
      "  return f(**kwargs)\n"
     ]
    }
   ],
   "source": [
    "### integer mapping using LabelEncoder\n",
    "label_encoder = LabelEncoder()\n",
    "integer_encoded = label_encoder.fit_transform(y)\n",
    "print(integer_encoded)\n",
    "# integer_encoded = integer_encoded.reshape(len(integer_encoded), 1)"
   ]
  },
  {
   "cell_type": "code",
   "execution_count": 119,
   "metadata": {},
   "outputs": [],
   "source": [
    "from keras.utils import to_categorical"
   ]
  },
  {
   "cell_type": "code",
   "execution_count": 120,
   "metadata": {},
   "outputs": [],
   "source": [
    "y = to_categorical(integer_encoded)"
   ]
  },
  {
   "cell_type": "code",
   "execution_count": 121,
   "metadata": {},
   "outputs": [
    {
     "data": {
      "text/plain": [
       "(150, 3)"
      ]
     },
     "execution_count": 121,
     "metadata": {},
     "output_type": "execute_result"
    }
   ],
   "source": [
    "y.shape"
   ]
  },
  {
   "cell_type": "code",
   "execution_count": 122,
   "metadata": {},
   "outputs": [
    {
     "data": {
      "text/plain": [
       "array([[1., 0., 0.],\n",
       "       [1., 0., 0.],\n",
       "       [1., 0., 0.],\n",
       "       [1., 0., 0.],\n",
       "       [1., 0., 0.],\n",
       "       [1., 0., 0.],\n",
       "       [1., 0., 0.],\n",
       "       [1., 0., 0.],\n",
       "       [1., 0., 0.],\n",
       "       [1., 0., 0.],\n",
       "       [1., 0., 0.],\n",
       "       [1., 0., 0.],\n",
       "       [1., 0., 0.],\n",
       "       [1., 0., 0.],\n",
       "       [1., 0., 0.],\n",
       "       [1., 0., 0.],\n",
       "       [1., 0., 0.],\n",
       "       [1., 0., 0.],\n",
       "       [1., 0., 0.],\n",
       "       [1., 0., 0.],\n",
       "       [1., 0., 0.],\n",
       "       [1., 0., 0.],\n",
       "       [1., 0., 0.],\n",
       "       [1., 0., 0.],\n",
       "       [1., 0., 0.],\n",
       "       [1., 0., 0.],\n",
       "       [1., 0., 0.],\n",
       "       [1., 0., 0.],\n",
       "       [1., 0., 0.],\n",
       "       [1., 0., 0.],\n",
       "       [1., 0., 0.],\n",
       "       [1., 0., 0.],\n",
       "       [1., 0., 0.],\n",
       "       [1., 0., 0.],\n",
       "       [1., 0., 0.],\n",
       "       [1., 0., 0.],\n",
       "       [1., 0., 0.],\n",
       "       [1., 0., 0.],\n",
       "       [1., 0., 0.],\n",
       "       [1., 0., 0.],\n",
       "       [1., 0., 0.],\n",
       "       [1., 0., 0.],\n",
       "       [1., 0., 0.],\n",
       "       [1., 0., 0.],\n",
       "       [1., 0., 0.],\n",
       "       [1., 0., 0.],\n",
       "       [1., 0., 0.],\n",
       "       [1., 0., 0.],\n",
       "       [1., 0., 0.],\n",
       "       [1., 0., 0.],\n",
       "       [0., 1., 0.],\n",
       "       [0., 1., 0.],\n",
       "       [0., 1., 0.],\n",
       "       [0., 1., 0.],\n",
       "       [0., 1., 0.],\n",
       "       [0., 1., 0.],\n",
       "       [0., 1., 0.],\n",
       "       [0., 1., 0.],\n",
       "       [0., 1., 0.],\n",
       "       [0., 1., 0.],\n",
       "       [0., 1., 0.],\n",
       "       [0., 1., 0.],\n",
       "       [0., 1., 0.],\n",
       "       [0., 1., 0.],\n",
       "       [0., 1., 0.],\n",
       "       [0., 1., 0.],\n",
       "       [0., 1., 0.],\n",
       "       [0., 1., 0.],\n",
       "       [0., 1., 0.],\n",
       "       [0., 1., 0.],\n",
       "       [0., 1., 0.],\n",
       "       [0., 1., 0.],\n",
       "       [0., 1., 0.],\n",
       "       [0., 1., 0.],\n",
       "       [0., 1., 0.],\n",
       "       [0., 1., 0.],\n",
       "       [0., 1., 0.],\n",
       "       [0., 1., 0.],\n",
       "       [0., 1., 0.],\n",
       "       [0., 1., 0.],\n",
       "       [0., 1., 0.],\n",
       "       [0., 1., 0.],\n",
       "       [0., 1., 0.],\n",
       "       [0., 1., 0.],\n",
       "       [0., 1., 0.],\n",
       "       [0., 1., 0.],\n",
       "       [0., 1., 0.],\n",
       "       [0., 1., 0.],\n",
       "       [0., 1., 0.],\n",
       "       [0., 1., 0.],\n",
       "       [0., 1., 0.],\n",
       "       [0., 1., 0.],\n",
       "       [0., 1., 0.],\n",
       "       [0., 1., 0.],\n",
       "       [0., 1., 0.],\n",
       "       [0., 1., 0.],\n",
       "       [0., 1., 0.],\n",
       "       [0., 1., 0.],\n",
       "       [0., 1., 0.],\n",
       "       [0., 1., 0.],\n",
       "       [0., 0., 1.],\n",
       "       [0., 0., 1.],\n",
       "       [0., 0., 1.],\n",
       "       [0., 0., 1.],\n",
       "       [0., 0., 1.],\n",
       "       [0., 0., 1.],\n",
       "       [0., 0., 1.],\n",
       "       [0., 0., 1.],\n",
       "       [0., 0., 1.],\n",
       "       [0., 0., 1.],\n",
       "       [0., 0., 1.],\n",
       "       [0., 0., 1.],\n",
       "       [0., 0., 1.],\n",
       "       [0., 0., 1.],\n",
       "       [0., 0., 1.],\n",
       "       [0., 0., 1.],\n",
       "       [0., 0., 1.],\n",
       "       [0., 0., 1.],\n",
       "       [0., 0., 1.],\n",
       "       [0., 0., 1.],\n",
       "       [0., 0., 1.],\n",
       "       [0., 0., 1.],\n",
       "       [0., 0., 1.],\n",
       "       [0., 0., 1.],\n",
       "       [0., 0., 1.],\n",
       "       [0., 0., 1.],\n",
       "       [0., 0., 1.],\n",
       "       [0., 0., 1.],\n",
       "       [0., 0., 1.],\n",
       "       [0., 0., 1.],\n",
       "       [0., 0., 1.],\n",
       "       [0., 0., 1.],\n",
       "       [0., 0., 1.],\n",
       "       [0., 0., 1.],\n",
       "       [0., 0., 1.],\n",
       "       [0., 0., 1.],\n",
       "       [0., 0., 1.],\n",
       "       [0., 0., 1.],\n",
       "       [0., 0., 1.],\n",
       "       [0., 0., 1.],\n",
       "       [0., 0., 1.],\n",
       "       [0., 0., 1.],\n",
       "       [0., 0., 1.],\n",
       "       [0., 0., 1.],\n",
       "       [0., 0., 1.],\n",
       "       [0., 0., 1.],\n",
       "       [0., 0., 1.],\n",
       "       [0., 0., 1.],\n",
       "       [0., 0., 1.],\n",
       "       [0., 0., 1.]], dtype=float32)"
      ]
     },
     "execution_count": 122,
     "metadata": {},
     "output_type": "execute_result"
    }
   ],
   "source": [
    "y"
   ]
  },
  {
   "cell_type": "code",
   "execution_count": 123,
   "metadata": {},
   "outputs": [],
   "source": [
    "from sklearn.model_selection import train_test_split"
   ]
  },
  {
   "cell_type": "code",
   "execution_count": 124,
   "metadata": {},
   "outputs": [],
   "source": [
    "X_train, X_test, y_train, y_test = train_test_split(X, y, test_size=0.33, random_state=42)"
   ]
  },
  {
   "cell_type": "code",
   "execution_count": 125,
   "metadata": {},
   "outputs": [],
   "source": [
    "from sklearn.preprocessing import MinMaxScaler #scaling the value to 0, 1"
   ]
  },
  {
   "cell_type": "code",
   "execution_count": 126,
   "metadata": {},
   "outputs": [],
   "source": [
    "mini = MinMaxScaler()"
   ]
  },
  {
   "cell_type": "code",
   "execution_count": 127,
   "metadata": {},
   "outputs": [
    {
     "data": {
      "text/plain": [
       "MinMaxScaler()"
      ]
     },
     "execution_count": 127,
     "metadata": {},
     "output_type": "execute_result"
    }
   ],
   "source": [
    "mini.fit(X_train)"
   ]
  },
  {
   "cell_type": "code",
   "execution_count": 128,
   "metadata": {},
   "outputs": [],
   "source": [
    "X_scaled_train = mini.transform(X_train)"
   ]
  },
  {
   "cell_type": "code",
   "execution_count": 129,
   "metadata": {},
   "outputs": [],
   "source": [
    "X_scaled_test = mini.transform(X_test)"
   ]
  },
  {
   "cell_type": "code",
   "execution_count": 130,
   "metadata": {},
   "outputs": [],
   "source": [
    "# Build network of keras"
   ]
  },
  {
   "cell_type": "code",
   "execution_count": 131,
   "metadata": {},
   "outputs": [],
   "source": [
    "from keras.models import Sequential\n",
    "from keras.layers import Dense"
   ]
  },
  {
   "cell_type": "code",
   "execution_count": 132,
   "metadata": {},
   "outputs": [],
   "source": [
    "model = Sequential()\n",
    "model.add(Dense(8, input_dim=4, activation='relu')) #to create 8 neurons, #input layer\n",
    "model.add(Dense(8, input_dim=4, activation='relu')) #to create 8 neurons\n",
    "model.add(Dense(3, activation='softmax')) #to create 8 neurons, #outut layer\n",
    "model.compile(loss='categorical_crossentropy', optimizer='adam', metrics=['accuracy'])"
   ]
  },
  {
   "cell_type": "code",
   "execution_count": 133,
   "metadata": {},
   "outputs": [
    {
     "name": "stdout",
     "output_type": "stream",
     "text": [
      "Model: \"sequential_6\"\n",
      "_________________________________________________________________\n",
      "Layer (type)                 Output Shape              Param #   \n",
      "=================================================================\n",
      "dense_16 (Dense)             (None, 8)                 40        \n",
      "_________________________________________________________________\n",
      "dense_17 (Dense)             (None, 8)                 72        \n",
      "_________________________________________________________________\n",
      "dense_18 (Dense)             (None, 3)                 27        \n",
      "=================================================================\n",
      "Total params: 139\n",
      "Trainable params: 139\n",
      "Non-trainable params: 0\n",
      "_________________________________________________________________\n"
     ]
    }
   ],
   "source": [
    "model.summary()"
   ]
  },
  {
   "cell_type": "code",
   "execution_count": 134,
   "metadata": {},
   "outputs": [
    {
     "name": "stdout",
     "output_type": "stream",
     "text": [
      "Epoch 1/150\n",
      "4/4 - 0s - loss: 1.1436 - accuracy: 0.3400\n",
      "Epoch 2/150\n",
      "4/4 - 0s - loss: 1.1343 - accuracy: 0.3400\n",
      "Epoch 3/150\n",
      "4/4 - 0s - loss: 1.1252 - accuracy: 0.3500\n",
      "Epoch 4/150\n",
      "4/4 - 0s - loss: 1.1173 - accuracy: 0.3500\n",
      "Epoch 5/150\n",
      "4/4 - 0s - loss: 1.1109 - accuracy: 0.3500\n",
      "Epoch 6/150\n",
      "4/4 - 0s - loss: 1.1037 - accuracy: 0.3500\n",
      "Epoch 7/150\n",
      "4/4 - 0s - loss: 1.0966 - accuracy: 0.3500\n",
      "Epoch 8/150\n",
      "4/4 - 0s - loss: 1.0902 - accuracy: 0.3500\n",
      "Epoch 9/150\n",
      "4/4 - 0s - loss: 1.0842 - accuracy: 0.3600\n",
      "Epoch 10/150\n",
      "4/4 - 0s - loss: 1.0777 - accuracy: 0.3400\n",
      "Epoch 11/150\n",
      "4/4 - 0s - loss: 1.0716 - accuracy: 0.3300\n",
      "Epoch 12/150\n",
      "4/4 - 0s - loss: 1.0656 - accuracy: 0.3400\n",
      "Epoch 13/150\n",
      "4/4 - 0s - loss: 1.0602 - accuracy: 0.3700\n",
      "Epoch 14/150\n",
      "4/4 - 0s - loss: 1.0536 - accuracy: 0.3400\n",
      "Epoch 15/150\n",
      "4/4 - 0s - loss: 1.0470 - accuracy: 0.3500\n",
      "Epoch 16/150\n",
      "4/4 - 0s - loss: 1.0415 - accuracy: 0.3400\n",
      "Epoch 17/150\n",
      "4/4 - 0s - loss: 1.0351 - accuracy: 0.3400\n",
      "Epoch 18/150\n",
      "4/4 - 0s - loss: 1.0301 - accuracy: 0.3400\n",
      "Epoch 19/150\n",
      "4/4 - 0s - loss: 1.0243 - accuracy: 0.3400\n",
      "Epoch 20/150\n",
      "4/4 - 0s - loss: 1.0194 - accuracy: 0.3400\n",
      "Epoch 21/150\n",
      "4/4 - 0s - loss: 1.0136 - accuracy: 0.3400\n",
      "Epoch 22/150\n",
      "4/4 - 0s - loss: 1.0082 - accuracy: 0.3400\n",
      "Epoch 23/150\n",
      "4/4 - 0s - loss: 1.0019 - accuracy: 0.3400\n",
      "Epoch 24/150\n",
      "4/4 - 0s - loss: 0.9961 - accuracy: 0.3400\n",
      "Epoch 25/150\n",
      "4/4 - 0s - loss: 0.9905 - accuracy: 0.3400\n",
      "Epoch 26/150\n",
      "4/4 - 0s - loss: 0.9842 - accuracy: 0.3400\n",
      "Epoch 27/150\n",
      "4/4 - 0s - loss: 0.9782 - accuracy: 0.3600\n",
      "Epoch 28/150\n",
      "4/4 - 0s - loss: 0.9725 - accuracy: 0.3600\n",
      "Epoch 29/150\n",
      "4/4 - 0s - loss: 0.9660 - accuracy: 0.3600\n",
      "Epoch 30/150\n",
      "4/4 - 0s - loss: 0.9607 - accuracy: 0.3600\n",
      "Epoch 31/150\n",
      "4/4 - 0s - loss: 0.9546 - accuracy: 0.4300\n",
      "Epoch 32/150\n",
      "4/4 - 0s - loss: 0.9488 - accuracy: 0.4300\n",
      "Epoch 33/150\n",
      "4/4 - 0s - loss: 0.9429 - accuracy: 0.5200\n",
      "Epoch 34/150\n",
      "4/4 - 0s - loss: 0.9366 - accuracy: 0.5600\n",
      "Epoch 35/150\n",
      "4/4 - 0s - loss: 0.9305 - accuracy: 0.6000\n",
      "Epoch 36/150\n",
      "4/4 - 0s - loss: 0.9235 - accuracy: 0.6200\n",
      "Epoch 37/150\n",
      "4/4 - 0s - loss: 0.9171 - accuracy: 0.6300\n",
      "Epoch 38/150\n",
      "4/4 - 0s - loss: 0.9111 - accuracy: 0.6400\n",
      "Epoch 39/150\n",
      "4/4 - 0s - loss: 0.9046 - accuracy: 0.6500\n",
      "Epoch 40/150\n",
      "4/4 - 0s - loss: 0.8980 - accuracy: 0.6500\n",
      "Epoch 41/150\n",
      "4/4 - 0s - loss: 0.8915 - accuracy: 0.6500\n",
      "Epoch 42/150\n",
      "4/4 - 0s - loss: 0.8851 - accuracy: 0.6500\n",
      "Epoch 43/150\n",
      "4/4 - 0s - loss: 0.8787 - accuracy: 0.6500\n",
      "Epoch 44/150\n",
      "4/4 - 0s - loss: 0.8728 - accuracy: 0.6500\n",
      "Epoch 45/150\n",
      "4/4 - 0s - loss: 0.8667 - accuracy: 0.6500\n",
      "Epoch 46/150\n",
      "4/4 - 0s - loss: 0.8599 - accuracy: 0.6500\n",
      "Epoch 47/150\n",
      "4/4 - 0s - loss: 0.8534 - accuracy: 0.6500\n",
      "Epoch 48/150\n",
      "4/4 - 0s - loss: 0.8469 - accuracy: 0.6500\n",
      "Epoch 49/150\n",
      "4/4 - 0s - loss: 0.8406 - accuracy: 0.6500\n",
      "Epoch 50/150\n",
      "4/4 - 0s - loss: 0.8340 - accuracy: 0.6500\n",
      "Epoch 51/150\n",
      "4/4 - 0s - loss: 0.8274 - accuracy: 0.6500\n",
      "Epoch 52/150\n",
      "4/4 - 0s - loss: 0.8212 - accuracy: 0.6500\n",
      "Epoch 53/150\n",
      "4/4 - 0s - loss: 0.8145 - accuracy: 0.6500\n",
      "Epoch 54/150\n",
      "4/4 - 0s - loss: 0.8082 - accuracy: 0.6500\n",
      "Epoch 55/150\n",
      "4/4 - 0s - loss: 0.8020 - accuracy: 0.6500\n",
      "Epoch 56/150\n",
      "4/4 - 0s - loss: 0.7956 - accuracy: 0.6500\n",
      "Epoch 57/150\n",
      "4/4 - 0s - loss: 0.7897 - accuracy: 0.6500\n",
      "Epoch 58/150\n",
      "4/4 - 0s - loss: 0.7839 - accuracy: 0.6500\n",
      "Epoch 59/150\n",
      "4/4 - 0s - loss: 0.7775 - accuracy: 0.6500\n",
      "Epoch 60/150\n",
      "4/4 - 0s - loss: 0.7713 - accuracy: 0.6500\n",
      "Epoch 61/150\n",
      "4/4 - 0s - loss: 0.7650 - accuracy: 0.6500\n",
      "Epoch 62/150\n",
      "4/4 - 0s - loss: 0.7588 - accuracy: 0.6500\n",
      "Epoch 63/150\n",
      "4/4 - 0s - loss: 0.7527 - accuracy: 0.6500\n",
      "Epoch 64/150\n",
      "4/4 - 0s - loss: 0.7466 - accuracy: 0.6500\n",
      "Epoch 65/150\n",
      "4/4 - 0s - loss: 0.7400 - accuracy: 0.6500\n",
      "Epoch 66/150\n",
      "4/4 - 0s - loss: 0.7338 - accuracy: 0.6500\n",
      "Epoch 67/150\n",
      "4/4 - 0s - loss: 0.7276 - accuracy: 0.6500\n",
      "Epoch 68/150\n",
      "4/4 - 0s - loss: 0.7209 - accuracy: 0.6500\n",
      "Epoch 69/150\n",
      "4/4 - 0s - loss: 0.7142 - accuracy: 0.6500\n",
      "Epoch 70/150\n",
      "4/4 - 0s - loss: 0.7081 - accuracy: 0.6500\n",
      "Epoch 71/150\n",
      "4/4 - 0s - loss: 0.7018 - accuracy: 0.6500\n",
      "Epoch 72/150\n",
      "4/4 - 0s - loss: 0.6957 - accuracy: 0.6500\n",
      "Epoch 73/150\n",
      "4/4 - 0s - loss: 0.6900 - accuracy: 0.6500\n",
      "Epoch 74/150\n",
      "4/4 - 0s - loss: 0.6838 - accuracy: 0.6500\n",
      "Epoch 75/150\n",
      "4/4 - 0s - loss: 0.6783 - accuracy: 0.6500\n",
      "Epoch 76/150\n",
      "4/4 - 0s - loss: 0.6717 - accuracy: 0.6500\n",
      "Epoch 77/150\n",
      "4/4 - 0s - loss: 0.6657 - accuracy: 0.6600\n",
      "Epoch 78/150\n",
      "4/4 - 0s - loss: 0.6602 - accuracy: 0.6800\n",
      "Epoch 79/150\n",
      "4/4 - 0s - loss: 0.6549 - accuracy: 0.6900\n",
      "Epoch 80/150\n",
      "4/4 - 0s - loss: 0.6499 - accuracy: 0.7100\n",
      "Epoch 81/150\n",
      "4/4 - 0s - loss: 0.6443 - accuracy: 0.7100\n",
      "Epoch 82/150\n",
      "4/4 - 0s - loss: 0.6388 - accuracy: 0.7100\n",
      "Epoch 83/150\n",
      "4/4 - 0s - loss: 0.6333 - accuracy: 0.7200\n",
      "Epoch 84/150\n",
      "4/4 - 0s - loss: 0.6278 - accuracy: 0.7300\n",
      "Epoch 85/150\n",
      "4/4 - 0s - loss: 0.6224 - accuracy: 0.7400\n",
      "Epoch 86/150\n",
      "4/4 - 0s - loss: 0.6173 - accuracy: 0.7600\n",
      "Epoch 87/150\n",
      "4/4 - 0s - loss: 0.6123 - accuracy: 0.7700\n",
      "Epoch 88/150\n",
      "4/4 - 0s - loss: 0.6068 - accuracy: 0.7700\n",
      "Epoch 89/150\n",
      "4/4 - 0s - loss: 0.6017 - accuracy: 0.7900\n",
      "Epoch 90/150\n",
      "4/4 - 0s - loss: 0.5958 - accuracy: 0.7700\n",
      "Epoch 91/150\n",
      "4/4 - 0s - loss: 0.5901 - accuracy: 0.7600\n",
      "Epoch 92/150\n",
      "4/4 - 0s - loss: 0.5843 - accuracy: 0.7400\n",
      "Epoch 93/150\n",
      "4/4 - 0s - loss: 0.5791 - accuracy: 0.7400\n",
      "Epoch 94/150\n",
      "4/4 - 0s - loss: 0.5740 - accuracy: 0.7300\n",
      "Epoch 95/150\n",
      "4/4 - 0s - loss: 0.5689 - accuracy: 0.7400\n",
      "Epoch 96/150\n",
      "4/4 - 0s - loss: 0.5641 - accuracy: 0.7400\n",
      "Epoch 97/150\n",
      "4/4 - 0s - loss: 0.5592 - accuracy: 0.7400\n",
      "Epoch 98/150\n",
      "4/4 - 0s - loss: 0.5547 - accuracy: 0.7400\n",
      "Epoch 99/150\n",
      "4/4 - 0s - loss: 0.5505 - accuracy: 0.7600\n",
      "Epoch 100/150\n",
      "4/4 - 0s - loss: 0.5458 - accuracy: 0.7500\n",
      "Epoch 101/150\n",
      "4/4 - 0s - loss: 0.5414 - accuracy: 0.7500\n",
      "Epoch 102/150\n",
      "4/4 - 0s - loss: 0.5369 - accuracy: 0.7600\n",
      "Epoch 103/150\n",
      "4/4 - 0s - loss: 0.5329 - accuracy: 0.7700\n",
      "Epoch 104/150\n",
      "4/4 - 0s - loss: 0.5290 - accuracy: 0.7800\n",
      "Epoch 105/150\n",
      "4/4 - 0s - loss: 0.5249 - accuracy: 0.8000\n",
      "Epoch 106/150\n",
      "4/4 - 0s - loss: 0.5208 - accuracy: 0.7900\n",
      "Epoch 107/150\n",
      "4/4 - 0s - loss: 0.5171 - accuracy: 0.7700\n",
      "Epoch 108/150\n",
      "4/4 - 0s - loss: 0.5135 - accuracy: 0.7700\n",
      "Epoch 109/150\n",
      "4/4 - 0s - loss: 0.5100 - accuracy: 0.7700\n",
      "Epoch 110/150\n",
      "4/4 - 0s - loss: 0.5062 - accuracy: 0.7900\n",
      "Epoch 111/150\n",
      "4/4 - 0s - loss: 0.5035 - accuracy: 0.8600\n",
      "Epoch 112/150\n",
      "4/4 - 0s - loss: 0.4995 - accuracy: 0.8600\n",
      "Epoch 113/150\n",
      "4/4 - 0s - loss: 0.4961 - accuracy: 0.8600\n",
      "Epoch 114/150\n",
      "4/4 - 0s - loss: 0.4927 - accuracy: 0.8500\n",
      "Epoch 115/150\n",
      "4/4 - 0s - loss: 0.4893 - accuracy: 0.8500\n",
      "Epoch 116/150\n",
      "4/4 - 0s - loss: 0.4862 - accuracy: 0.8700\n",
      "Epoch 117/150\n",
      "4/4 - 0s - loss: 0.4830 - accuracy: 0.8600\n",
      "Epoch 118/150\n",
      "4/4 - 0s - loss: 0.4796 - accuracy: 0.8500\n",
      "Epoch 119/150\n",
      "4/4 - 0s - loss: 0.4777 - accuracy: 0.8100\n",
      "Epoch 120/150\n",
      "4/4 - 0s - loss: 0.4742 - accuracy: 0.7800\n",
      "Epoch 121/150\n",
      "4/4 - 0s - loss: 0.4716 - accuracy: 0.7700\n",
      "Epoch 122/150\n",
      "4/4 - 0s - loss: 0.4688 - accuracy: 0.7900\n",
      "Epoch 123/150\n",
      "4/4 - 0s - loss: 0.4652 - accuracy: 0.8300\n",
      "Epoch 124/150\n",
      "4/4 - 0s - loss: 0.4621 - accuracy: 0.8500\n",
      "Epoch 125/150\n",
      "4/4 - 0s - loss: 0.4594 - accuracy: 0.8900\n",
      "Epoch 126/150\n",
      "4/4 - 0s - loss: 0.4571 - accuracy: 0.9200\n",
      "Epoch 127/150\n",
      "4/4 - 0s - loss: 0.4542 - accuracy: 0.9200\n",
      "Epoch 128/150\n",
      "4/4 - 0s - loss: 0.4519 - accuracy: 0.9200\n",
      "Epoch 129/150\n",
      "4/4 - 0s - loss: 0.4486 - accuracy: 0.9200\n",
      "Epoch 130/150\n",
      "4/4 - 0s - loss: 0.4456 - accuracy: 0.9200\n",
      "Epoch 131/150\n",
      "4/4 - 0s - loss: 0.4431 - accuracy: 0.9000\n",
      "Epoch 132/150\n",
      "4/4 - 0s - loss: 0.4404 - accuracy: 0.9200\n",
      "Epoch 133/150\n",
      "4/4 - 0s - loss: 0.4378 - accuracy: 0.9200\n",
      "Epoch 134/150\n",
      "4/4 - 0s - loss: 0.4354 - accuracy: 0.9200\n",
      "Epoch 135/150\n",
      "4/4 - 0s - loss: 0.4328 - accuracy: 0.9200\n",
      "Epoch 136/150\n",
      "4/4 - 0s - loss: 0.4308 - accuracy: 0.9200\n",
      "Epoch 137/150\n",
      "4/4 - 0s - loss: 0.4277 - accuracy: 0.9200\n",
      "Epoch 138/150\n",
      "4/4 - 0s - loss: 0.4252 - accuracy: 0.9000\n",
      "Epoch 139/150\n",
      "4/4 - 0s - loss: 0.4231 - accuracy: 0.8900\n",
      "Epoch 140/150\n",
      "4/4 - 0s - loss: 0.4210 - accuracy: 0.8800\n",
      "Epoch 141/150\n",
      "4/4 - 0s - loss: 0.4178 - accuracy: 0.9000\n",
      "Epoch 142/150\n",
      "4/4 - 0s - loss: 0.4152 - accuracy: 0.9200\n",
      "Epoch 143/150\n",
      "4/4 - 0s - loss: 0.4139 - accuracy: 0.9400\n",
      "Epoch 144/150\n",
      "4/4 - 0s - loss: 0.4118 - accuracy: 0.9400\n",
      "Epoch 145/150\n",
      "4/4 - 0s - loss: 0.4093 - accuracy: 0.9400\n",
      "Epoch 146/150\n",
      "4/4 - 0s - loss: 0.4064 - accuracy: 0.9400\n"
     ]
    },
    {
     "name": "stdout",
     "output_type": "stream",
     "text": [
      "Epoch 147/150\n",
      "4/4 - 0s - loss: 0.4041 - accuracy: 0.9400\n",
      "Epoch 148/150\n",
      "4/4 - 0s - loss: 0.4025 - accuracy: 0.9200\n",
      "Epoch 149/150\n",
      "4/4 - 0s - loss: 0.3999 - accuracy: 0.9200\n",
      "Epoch 150/150\n",
      "4/4 - 0s - loss: 0.3976 - accuracy: 0.9200\n"
     ]
    },
    {
     "data": {
      "text/plain": [
       "<tensorflow.python.keras.callbacks.History at 0x186ec52b910>"
      ]
     },
     "execution_count": 134,
     "metadata": {},
     "output_type": "execute_result"
    }
   ],
   "source": [
    "model.fit(X_scaled_train, y_train,epochs=150, verbose=2) #verbose-- > output"
   ]
  },
  {
   "cell_type": "code",
   "execution_count": 135,
   "metadata": {},
   "outputs": [
    {
     "name": "stderr",
     "output_type": "stream",
     "text": [
      "C:\\Users\\13kau\\AppData\\Roaming\\Python\\Python38\\site-packages\\tensorflow\\python\\keras\\engine\\sequential.py:450: UserWarning: `model.predict_classes()` is deprecated and will be removed after 2021-01-01. Please use instead:* `np.argmax(model.predict(x), axis=-1)`,   if your model does multi-class classification   (e.g. if it uses a `softmax` last-layer activation).* `(model.predict(x) > 0.5).astype(\"int32\")`,   if your model does binary classification   (e.g. if it uses a `sigmoid` last-layer activation).\n",
      "  warnings.warn('`model.predict_classes()` is deprecated and '\n"
     ]
    },
    {
     "data": {
      "text/plain": [
       "array([1, 0, 2, 2, 2, 0, 1, 2, 2, 1, 2, 0, 0, 0, 0, 1, 2, 1, 1, 2, 0, 2,\n",
       "       0, 2, 2, 2, 2, 2, 0, 0, 0, 0, 1, 0, 0, 2, 1, 0, 0, 0, 2, 1, 1, 0,\n",
       "       0, 1, 2, 2, 1, 2], dtype=int64)"
      ]
     },
     "execution_count": 135,
     "metadata": {},
     "output_type": "execute_result"
    }
   ],
   "source": [
    "model.predict_classes(X_scaled_test)"
   ]
  },
  {
   "cell_type": "code",
   "execution_count": 136,
   "metadata": {},
   "outputs": [
    {
     "name": "stderr",
     "output_type": "stream",
     "text": [
      "C:\\Users\\13kau\\AppData\\Roaming\\Python\\Python38\\site-packages\\tensorflow\\python\\keras\\engine\\sequential.py:450: UserWarning: `model.predict_classes()` is deprecated and will be removed after 2021-01-01. Please use instead:* `np.argmax(model.predict(x), axis=-1)`,   if your model does multi-class classification   (e.g. if it uses a `softmax` last-layer activation).* `(model.predict(x) > 0.5).astype(\"int32\")`,   if your model does binary classification   (e.g. if it uses a `sigmoid` last-layer activation).\n",
      "  warnings.warn('`model.predict_classes()` is deprecated and '\n"
     ]
    }
   ],
   "source": [
    "predictions =model.predict_classes(X_scaled_test)"
   ]
  },
  {
   "cell_type": "code",
   "execution_count": 138,
   "metadata": {},
   "outputs": [
    {
     "data": {
      "text/plain": [
       "array([1, 0, 2, 1, 1, 0, 1, 2, 1, 1, 2, 0, 0, 0, 0, 1, 2, 1, 1, 2, 0, 2,\n",
       "       0, 2, 2, 2, 2, 2, 0, 0, 0, 0, 1, 0, 0, 2, 1, 0, 0, 0, 2, 1, 1, 0,\n",
       "       0, 1, 2, 2, 1, 2], dtype=int64)"
      ]
     },
     "execution_count": 138,
     "metadata": {},
     "output_type": "execute_result"
    }
   ],
   "source": [
    "y_test.argmax(axis=1) #reports back the original classes"
   ]
  },
  {
   "cell_type": "code",
   "execution_count": 140,
   "metadata": {},
   "outputs": [],
   "source": [
    "from sklearn.metrics import classification_report, confusion_matrix, accuracy_score"
   ]
  },
  {
   "cell_type": "code",
   "execution_count": 143,
   "metadata": {},
   "outputs": [
    {
     "name": "stdout",
     "output_type": "stream",
     "text": [
      "0.94\n"
     ]
    }
   ],
   "source": [
    "print(accuracy_score(y_test.argmax(axis=1), predictions))"
   ]
  },
  {
   "cell_type": "code",
   "execution_count": 144,
   "metadata": {},
   "outputs": [
    {
     "name": "stdout",
     "output_type": "stream",
     "text": [
      "[[19  0  0]\n",
      " [ 0 12  3]\n",
      " [ 0  0 16]]\n"
     ]
    }
   ],
   "source": [
    "print(confusion_matrix(y_test.argmax(axis=1), predictions))"
   ]
  },
  {
   "cell_type": "code",
   "execution_count": 145,
   "metadata": {},
   "outputs": [
    {
     "name": "stdout",
     "output_type": "stream",
     "text": [
      "              precision    recall  f1-score   support\n",
      "\n",
      "           0       1.00      1.00      1.00        19\n",
      "           1       1.00      0.80      0.89        15\n",
      "           2       0.84      1.00      0.91        16\n",
      "\n",
      "    accuracy                           0.94        50\n",
      "   macro avg       0.95      0.93      0.93        50\n",
      "weighted avg       0.95      0.94      0.94        50\n",
      "\n"
     ]
    }
   ],
   "source": [
    "print(classification_report(y_test.argmax(axis=1), predictions))"
   ]
  },
  {
   "cell_type": "code",
   "execution_count": 146,
   "metadata": {},
   "outputs": [],
   "source": [
    "model.save('myFirstproj.h5')"
   ]
  },
  {
   "cell_type": "code",
   "execution_count": 147,
   "metadata": {},
   "outputs": [],
   "source": [
    "from keras.models import load_model"
   ]
  },
  {
   "cell_type": "code",
   "execution_count": 148,
   "metadata": {},
   "outputs": [],
   "source": [
    "new_model = load_model('myFirstproj.h5')"
   ]
  },
  {
   "cell_type": "code",
   "execution_count": 149,
   "metadata": {},
   "outputs": [
    {
     "name": "stderr",
     "output_type": "stream",
     "text": [
      "C:\\Users\\13kau\\AppData\\Roaming\\Python\\Python38\\site-packages\\tensorflow\\python\\keras\\engine\\sequential.py:450: UserWarning: `model.predict_classes()` is deprecated and will be removed after 2021-01-01. Please use instead:* `np.argmax(model.predict(x), axis=-1)`,   if your model does multi-class classification   (e.g. if it uses a `softmax` last-layer activation).* `(model.predict(x) > 0.5).astype(\"int32\")`,   if your model does binary classification   (e.g. if it uses a `sigmoid` last-layer activation).\n",
      "  warnings.warn('`model.predict_classes()` is deprecated and '\n"
     ]
    },
    {
     "data": {
      "text/plain": [
       "array([1, 0, 2, 2, 2, 0, 1, 2, 2, 1, 2, 0, 0, 0, 0, 1, 2, 1, 1, 2, 0, 2,\n",
       "       0, 2, 2, 2, 2, 2, 0, 0, 0, 0, 1, 0, 0, 2, 1, 0, 0, 0, 2, 1, 1, 0,\n",
       "       0, 1, 2, 2, 1, 2], dtype=int64)"
      ]
     },
     "execution_count": 149,
     "metadata": {},
     "output_type": "execute_result"
    }
   ],
   "source": [
    "new_model.predict_classes(X_scaled_test)"
   ]
  },
  {
   "cell_type": "code",
   "execution_count": null,
   "metadata": {},
   "outputs": [],
   "source": []
  }
 ],
 "metadata": {
  "kernelspec": {
   "display_name": "Python 3",
   "language": "python",
   "name": "python3"
  },
  "language_info": {
   "codemirror_mode": {
    "name": "ipython",
    "version": 3
   },
   "file_extension": ".py",
   "mimetype": "text/x-python",
   "name": "python",
   "nbconvert_exporter": "python",
   "pygments_lexer": "ipython3",
   "version": "3.8.5"
  },
  "varInspector": {
   "cols": {
    "lenName": 16,
    "lenType": 16,
    "lenVar": 40
   },
   "kernels_config": {
    "python": {
     "delete_cmd_postfix": "",
     "delete_cmd_prefix": "del ",
     "library": "var_list.py",
     "varRefreshCmd": "print(var_dic_list())"
    },
    "r": {
     "delete_cmd_postfix": ") ",
     "delete_cmd_prefix": "rm(",
     "library": "var_list.r",
     "varRefreshCmd": "cat(var_dic_list()) "
    }
   },
   "types_to_exclude": [
    "module",
    "function",
    "builtin_function_or_method",
    "instance",
    "_Feature"
   ],
   "window_display": false
  }
 },
 "nbformat": 4,
 "nbformat_minor": 4
}
